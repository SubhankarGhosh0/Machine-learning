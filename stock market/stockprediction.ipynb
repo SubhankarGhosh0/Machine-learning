{
 "cells": [
  {
   "cell_type": "code",
   "execution_count": 1,
   "id": "a873b9c6",
   "metadata": {},
   "outputs": [],
   "source": [
    "import pandas as pd\n"
   ]
  },
  {
   "cell_type": "code",
   "execution_count": 2,
   "id": "dbc9bdcd",
   "metadata": {},
   "outputs": [],
   "source": [
    "dataset = pd.read_csv('INFY.csv')"
   ]
  },
  {
   "cell_type": "code",
   "execution_count": 3,
   "id": "af20565b",
   "metadata": {},
   "outputs": [],
   "source": [
    "x=dataset.loc[:,'High':'Turnover (Lacs)']###Give data to model from first attribute\n",
    "y=dataset.loc[:,'Open']##Give value to model from data"
   ]
  },
  {
   "cell_type": "code",
   "execution_count": 4,
   "id": "8023f0cd",
   "metadata": {},
   "outputs": [],
   "source": [
    "from sklearn.model_selection import train_test_split\n",
    "x_train,x_test,y_train,y_test=train_test_split(x,y,test_size=0.2,random_state=1)"
   ]
  },
  {
   "cell_type": "code",
   "execution_count": 9,
   "id": "258287b0",
   "metadata": {},
   "outputs": [
    {
     "name": "stdout",
     "output_type": "stream",
     "text": [
      "[899.]\n",
      "0.9992628360543909\n"
     ]
    }
   ],
   "source": [
    "from sklearn.tree import DecisionTreeRegressor\n",
    "dt=DecisionTreeRegressor()\n",
    "test= [[28.8,80.1,2815.25,15.1,761.0,2142]]###High-Low-Last\tClose-Total Trade Quantity-Turnover (Lacs)\n",
    "dt.fit(x_train,y_train)\n",
    "print(dt.predict(test))\n",
    "print(dt.score(x_test,y_test))"
   ]
  },
  {
   "cell_type": "code",
   "execution_count": null,
   "id": "95b66cf0",
   "metadata": {},
   "outputs": [],
   "source": []
  }
 ],
 "metadata": {
  "kernelspec": {
   "display_name": "Python 3 (ipykernel)",
   "language": "python",
   "name": "python3"
  },
  "language_info": {
   "codemirror_mode": {
    "name": "ipython",
    "version": 3
   },
   "file_extension": ".py",
   "mimetype": "text/x-python",
   "name": "python",
   "nbconvert_exporter": "python",
   "pygments_lexer": "ipython3",
   "version": "3.9.7"
  }
 },
 "nbformat": 4,
 "nbformat_minor": 5
}
